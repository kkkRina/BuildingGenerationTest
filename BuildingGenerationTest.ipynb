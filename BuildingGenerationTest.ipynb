{
  "nbformat": 4,
  "nbformat_minor": 0,
  "metadata": {
    "colab": {
      "provenance": []
    },
    "kernelspec": {
      "name": "python3",
      "display_name": "Python 3"
    },
    "language_info": {
      "name": "python"
    }
  },
  "cells": [
    {
      "cell_type": "markdown",
      "source": [
        "# Импорт библиотек"
      ],
      "metadata": {
        "id": "8LmFgbTXX-zS"
      }
    },
    {
      "cell_type": "code",
      "source": [
        "import json\n",
        "import random\n",
        "import geopandas as gpd\n",
        "import matplotlib.pyplot as plt\n",
        "from shapely.geometry import Polygon, LineString, box, shape"
      ],
      "metadata": {
        "id": "VrzOGDzHm1ox"
      },
      "execution_count": null,
      "outputs": []
    },
    {
      "cell_type": "markdown",
      "source": [
        "# Генерация файла\n",
        "\n",
        "Генерирует GeoJSON с квадратным участком, случайными дорогами (горизонтальными и вертикальными) и парками, избегая пересечений.\n",
        "\n",
        "Параметры:\n",
        "- size (int): Размер участка (по умолчанию 1000 м × 1000 м)\n",
        "- num_roads (int): Количество дорог в каждом направлении (по умолчанию 3)\n",
        "- num_parks (int): Количество парков (по умолчанию 2)\n",
        "- save_path (str): Имя файла для сохранения\n",
        "\n",
        "Возвращает:\n",
        "- GeoDataFrame с участком, дорогами и парками."
      ],
      "metadata": {
        "id": "k6QCIdLQX-XH"
      }
    },
    {
      "cell_type": "code",
      "source": [
        "def generate_geojson(size=1000, num_roads=3, num_parks=2, save_path=\"generated_map.geojson\"):\n",
        "\n",
        "    # 1. Определяем участок\n",
        "    site_polygon = box(0, 0, size, size)\n",
        "    site_feature = {\n",
        "        \"type\": \"Feature\",\n",
        "        \"properties\": {\"name\": \"Зона застройки\"},\n",
        "        \"geometry\": site_polygon.__geo_interface__\n",
        "    }\n",
        "\n",
        "    # 2. Создаём случайные дороги\n",
        "    road_features = []\n",
        "    road_geometries = []\n",
        "\n",
        "    def add_road(start, end):\n",
        "        road = LineString([start, end])\n",
        "        if not any(road.equals(existing) for existing in road_geometries):\n",
        "            road_geometries.append(road)\n",
        "            road_features.append({\n",
        "                \"type\": \"Feature\",\n",
        "                \"properties\": {\"name\": \"Дорога\", \"restriction\": \"no_build\"},\n",
        "                \"geometry\": road.__geo_interface__\n",
        "            })\n",
        "\n",
        "    # Горизонтальные дороги\n",
        "    used_y = set()\n",
        "    for _ in range(num_roads):\n",
        "        y = random.randint(size // 10, size - size // 10)\n",
        "        if y not in used_y:\n",
        "            x_start = random.randint(0, size // 3)\n",
        "            x_end = random.randint(size // 2, size)\n",
        "            add_road((x_start, y), (x_end, y))\n",
        "            used_y.add(y)\n",
        "\n",
        "    # Вертикальные дороги\n",
        "    used_x = set()\n",
        "    for _ in range(num_roads):\n",
        "        x = random.randint(size // 10, size - size // 10)\n",
        "        if x not in used_x:\n",
        "            y_start = random.randint(0, size // 3)\n",
        "            y_end = random.randint(size // 2, size)\n",
        "            add_road((x, y_start), (x, y_end))\n",
        "            used_x.add(x)\n",
        "\n",
        "    # 3. Генерируем лесные зоны\n",
        "    park_features = []\n",
        "    park_geometries = []  # Список уже занятых зон\n",
        "    max_attempts = 10  # Количество попыток найти место\n",
        "\n",
        "    for _ in range(num_parks):\n",
        "        for _ in range(max_attempts):\n",
        "            park_size = random.randint(size // 6, size // 4)\n",
        "            x, y = random.randint(0, size - park_size), random.randint(0, size - park_size)\n",
        "            park_polygon = box(x, y, x + park_size, y + park_size)\n",
        "\n",
        "            # Проверяем, не пересекается ли лесная зона с другими или с дорогами\n",
        "            if not any(park_polygon.intersects(g) for g in road_geometries + park_geometries):\n",
        "                park_features.append({\n",
        "                    \"type\": \"Feature\",\n",
        "                    \"properties\": {\"name\": \"Лесная зона\", \"restriction\": \"no_build\"},\n",
        "                    \"geometry\": park_polygon.__geo_interface__\n",
        "                })\n",
        "                park_geometries.append(park_polygon)\n",
        "                break\n",
        "\n",
        "    # 4. Собираем GeoJSON\n",
        "    geojson_data = {\n",
        "        \"type\": \"FeatureCollection\",\n",
        "        \"features\": [site_feature] + road_features + park_features\n",
        "    }\n",
        "\n",
        "    # 5. Сохраняем в файл\n",
        "    with open(save_path, \"w\", encoding=\"utf-8\") as f:\n",
        "        json.dump(geojson_data, f, ensure_ascii=False, indent=2)\n",
        "\n",
        "    print(f\"GeoJSON сохранён в {save_path}\")\n",
        "\n",
        "    # 6. Визуализация\n",
        "    gdf = gpd.GeoDataFrame.from_features(geojson_data[\"features\"])\n",
        "    fig, ax = plt.subplots(figsize=(8, 8))\n",
        "\n",
        "    # Отображаем участок (фон белый)\n",
        "    gpd.GeoSeries(site_polygon).plot(ax=ax, edgecolor=\"black\", facecolor=\"white\", linewidth=1.5, label=\"Разрешённая зона\")\n",
        "\n",
        "    # Отображаем дороги (серый)\n",
        "    for feature in road_features:\n",
        "        gpd.GeoSeries(LineString(feature[\"geometry\"][\"coordinates\"])).plot(ax=ax, color=\"gray\", linewidth=2, label=\"Дороги\" if feature == road_features[0] else \"\")\n",
        "\n",
        "    # Отображаем лесную зону (зелёный)\n",
        "    for feature in park_features:\n",
        "        gpd.GeoSeries(Polygon(feature[\"geometry\"][\"coordinates\"][0])).plot(ax=ax, color=\"green\", alpha=0.5, label=\"Лесная зона\" if feature == park_features[0] else \"\")\n",
        "\n",
        "    # Добавляем легенду\n",
        "    plt.scatter([], [], color=\"green\", alpha=0.5, label=\"Лесная зона\")\n",
        "    plt.legend()\n",
        "\n",
        "    plt.title(\"Карта участка\")\n",
        "    plt.show()\n",
        "\n",
        "    return gdf  # Возвращаем GeoDataFrame с участком\n",
        "\n",
        "gdf = generate_geojson()\n"
      ],
      "metadata": {
        "colab": {
          "base_uri": "https://localhost:8080/",
          "height": 768
        },
        "id": "HUszi9xWm2XO",
        "outputId": "ade4ccaf-4ec5-4c66-9888-571de8c3de54"
      },
      "execution_count": null,
      "outputs": [
        {
          "output_type": "stream",
          "name": "stdout",
          "text": [
            "GeoJSON сохранён в generated_map.geojson\n"
          ]
        },
        {
          "output_type": "stream",
          "name": "stderr",
          "text": [
            "<ipython-input-12-0bdf5392353f>:95: UserWarning: Legend does not support handles for PatchCollection instances.\n",
            "See: https://matplotlib.org/stable/tutorials/intermediate/legend_guide.html#implementing-a-custom-legend-handler\n",
            "  plt.legend()\n"
          ]
        },
        {
          "output_type": "display_data",
          "data": {
            "text/plain": [
              "<Figure size 800x800 with 1 Axes>"
            ],
            "image/png": "[encoded data removed]"
          },
          "metadata": {}
        }
      ]
    },
    {
      "cell_type": "markdown",
      "source": [
        "# Генерация застройки\n",
        "\n",
        "Генерирует здания в разрешённой зоне с учётом расстояний до дорог и парков.\n",
        "\n",
        "Параметры:\n",
        "- geojson_path (str): Путь к исходному GeoJSON.\n",
        "- building_spacing (int): Минимальное расстояние между зданиями и объектами (по умолчанию 10 м).\n",
        "- commercial_ratio (float): Вероятность появления коммерческого здания (по умолчанию 0.2 = 20%).\n",
        "- save_path (str): Путь для сохранения нового GeoJSON.\n",
        "\n",
        "Возвращает:\n",
        "- GeoDataFrame с обновлёнными данными."
      ],
      "metadata": {
        "id": "430tgOFOaonb"
      }
    },
    {
      "cell_type": "code",
      "source": [
        "def generate_buildings(geojson_path=\"generated_map.geojson\", building_spacing=10, commercial_ratio=0.2, save_path=\"developed_map.geojson\"):\n",
        "\n",
        "    # 1. Загружаем GeoJSON\n",
        "    with open(geojson_path, \"r\", encoding=\"utf-8\") as f:\n",
        "        data = json.load(f)\n",
        "\n",
        "    features = data[\"features\"]\n",
        "\n",
        "    # 2. Извлекаем запрещённые зоны (дороги, лесные зоны) и разрешённую зону\n",
        "    forbidden_geometries = []  # Список запрещённых зон\n",
        "    allowed_area = None  # Разрешённая зона застройки\n",
        "\n",
        "    for feature in features:\n",
        "        geom = shape(feature[\"geometry\"])\n",
        "\n",
        "        if feature[\"properties\"].get(\"name\") == \"Зона застройки\":\n",
        "            allowed_area = geom\n",
        "        elif feature[\"properties\"].get(\"restriction\") == \"no_build\":\n",
        "            forbidden_geometries.append(geom)\n",
        "\n",
        "    if allowed_area is None:\n",
        "        raise ValueError(\"Ошибка: В GeoJSON нет разрешённой зоны!\")\n",
        "\n",
        "    # 3. Создаём буфер вокруг дорог и лесных зон\n",
        "    road_buffer = [geom.buffer(building_spacing) for geom in forbidden_geometries if geom is not None]\n",
        "    forbidden_geometries.extend(road_buffer)\n",
        "\n",
        "    # 4. Генерируем здания\n",
        "    max_attempts = 500  # Число попыток размещения зданий\n",
        "    buildings = []\n",
        "    used_areas = []\n",
        "\n",
        "    for _ in range(max_attempts):\n",
        "        # Рандомный размер здания (минимум 30×30 м, максимум 200×200 м)\n",
        "        width = random.randint(30, 200)\n",
        "        height = random.randint(30, 200)\n",
        "\n",
        "        # Рандомная позиция\n",
        "        x_min = random.randint(0, 1000 - width)\n",
        "        y_min = random.randint(0, 1000 - height)\n",
        "        building = box(x_min, y_min, x_min + width, y_min + height)\n",
        "\n",
        "        # Проверяем, не выходит ли здание за границы разрешённой зоны\n",
        "        if not allowed_area.contains(building):\n",
        "            continue\n",
        "\n",
        "        # Проверяем, не пересекается ли здание с запрещёнными зонами с учётом буфера\n",
        "        if any(building.intersects(forbidden) for forbidden in forbidden_geometries):\n",
        "            continue\n",
        "\n",
        "        # Проверяем, не пересекается ли здание с уже построенными зданиями\n",
        "        if any(building.buffer(building_spacing).intersects(existing) for existing in used_areas):\n",
        "            continue\n",
        "\n",
        "        # Определяем тип здания (80% жилое, 20% коммерческое)\n",
        "        building_type = \"commercial\" if random.random() < commercial_ratio else \"residential\"\n",
        "\n",
        "        # Добавляем здание в GeoJSON\n",
        "        buildings.append({\n",
        "            \"type\": \"Feature\",\n",
        "            \"properties\": {\"type\": building_type},\n",
        "            \"geometry\": building.__geo_interface__\n",
        "        })\n",
        "\n",
        "        # Добавляем здание и его буфер в список занятых областей\n",
        "        used_areas.append(building)\n",
        "        forbidden_geometries.append(building.buffer(building_spacing))\n",
        "\n",
        "    # 5. Обновляем GeoJSON\n",
        "    data[\"features\"].extend(buildings)\n",
        "\n",
        "    # 6. Сохраняем обновлённый файл\n",
        "    with open(save_path, \"w\", encoding=\"utf-8\") as f:\n",
        "        json.dump(data, f, ensure_ascii=False, indent=2)\n",
        "\n",
        "    print(f\"Застройка завершена! Файл сохранён в {save_path}\")\n",
        "\n",
        "    # 7. Визуализация\n",
        "    gdf = gpd.GeoDataFrame.from_features(data[\"features\"])\n",
        "    fig, ax = plt.subplots(figsize=(8, 8))\n",
        "\n",
        "    # Фильтрация объектов\n",
        "    gdf[gdf[\"name\"] == \"Зона застройки\"].plot(ax=ax, edgecolor=\"black\", facecolor=\"white\", linewidth=1.5, label=\"Разрешённая зона\")\n",
        "    gdf[gdf[\"restriction\"] == \"no_build\"].plot(ax=ax, color=\"gray\", linewidth=2, label=\"Дороги\")\n",
        "    gdf[gdf[\"name\"] == \"Лесная зона\"].plot(ax=ax, color=\"green\", alpha=0.5, label=\"Лесная зона\")\n",
        "    gdf[gdf[\"type\"] == \"residential\"].plot(ax=ax, color=\"black\", label=\"Жилые дома\")\n",
        "    gdf[gdf[\"type\"] == \"commercial\"].plot(ax=ax, color=\"yellow\", label=\"Коммерция\")\n",
        "\n",
        "    # Добавляем легенду\n",
        "    plt.scatter([], [], color=\"green\", alpha=0.5, label=\"Лесная зона\")\n",
        "    plt.scatter([], [], color=\"black\", label=\"Жилые дома\")\n",
        "    plt.scatter([], [], color=\"yellow\", label=\"Коммерция\")\n",
        "    plt.legend()\n",
        "    plt.title(\"Генерация застройки\")\n",
        "    plt.show()\n",
        "\n",
        "    return gdf\n",
        "\n",
        "\n",
        "gdf = generate_buildings()\n"
      ],
      "metadata": {
        "colab": {
          "base_uri": "https://localhost:8080/",
          "height": 768
        },
        "id": "3G10Boi1picM",
        "outputId": "210e90fc-7804-4e9d-a5df-98314bf1c6c0"
      },
      "execution_count": null,
      "outputs": [
        {
          "output_type": "stream",
          "name": "stdout",
          "text": [
            "Застройка завершена! Файл сохранён в developed_map.geojson\n"
          ]
        },
        {
          "output_type": "stream",
          "name": "stderr",
          "text": [
            "<ipython-input-13-90e7671068e9>:93: UserWarning: Legend does not support handles for PatchCollection instances.\n",
            "See: https://matplotlib.org/stable/tutorials/intermediate/legend_guide.html#implementing-a-custom-legend-handler\n",
            "  plt.legend()\n"
          ]
        },
        {
          "output_type": "display_data",
          "data": {
            "text/plain": [
              "<Figure size 800x800 with 1 Axes>"
            ],
            "image/png": "[encoded data removed]"
          },
          "metadata": {}
        }
      ]
    },
    {
      "cell_type": "code",
      "source": [],
      "metadata": {
        "id": "JOPlJtzLsK2g"
      },
      "execution_count": null,
      "outputs": []
    }
  ]
}